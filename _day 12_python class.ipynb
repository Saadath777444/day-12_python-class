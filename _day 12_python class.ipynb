{
 "cells": [
  {
   "cell_type": "code",
   "execution_count": null,
   "id": "9e2b6a4c",
   "metadata": {},
   "outputs": [],
   "source": [
    "# create a class Dog and define its method....!"
   ]
  },
  {
   "cell_type": "code",
   "execution_count": null,
   "id": "76daaf24",
   "metadata": {},
   "outputs": [],
   "source": []
  },
  {
   "cell_type": "code",
   "execution_count": 38,
   "id": "1ba5bee1",
   "metadata": {},
   "outputs": [],
   "source": [
    "class Dog:     # defining the class\n",
    "    \"\"\"A simple attempt to model a dog\"\"\"  # this is a doc string\n",
    "    \n",
    "    def __init__(self,name,age):\n",
    "        \"\"\"initializing name and age attributes\"\"\"\n",
    "        self.name = name \n",
    "        self.age = age\n",
    "        \n",
    "    def sit(self):\n",
    "        \"\"\"simulate a dog sitting in response to a command\"\"\"\n",
    "        print(f\"{self.name} is now sitting.\")\n",
    "        \n",
    "    def roll_over(self):\n",
    "        \"\"\"simulating rolling over in response to a command\"\"\"\n",
    "        print(f\"{self.name} rolled over!\")"
   ]
  },
  {
   "cell_type": "code",
   "execution_count": 39,
   "id": "0de84a25",
   "metadata": {},
   "outputs": [],
   "source": [
    "my_dog = Dog('willie',6)"
   ]
  },
  {
   "cell_type": "code",
   "execution_count": 40,
   "id": "a6238fe8",
   "metadata": {},
   "outputs": [
    {
     "name": "stdout",
     "output_type": "stream",
     "text": [
      "willie is now sitting.\n"
     ]
    }
   ],
   "source": [
    "my_dog.sit ()"
   ]
  },
  {
   "cell_type": "markdown",
   "id": "f98309b2",
   "metadata": {},
   "source": []
  },
  {
   "cell_type": "code",
   "execution_count": 35,
   "id": "ca4fa187",
   "metadata": {},
   "outputs": [
    {
     "name": "stdout",
     "output_type": "stream",
     "text": [
      "willie rolled over!\n"
     ]
    }
   ],
   "source": [
    "my_dog.roll_over()\n"
   ]
  },
  {
   "cell_type": "code",
   "execution_count": null,
   "id": "82dcfb8b",
   "metadata": {},
   "outputs": [],
   "source": []
  },
  {
   "cell_type": "code",
   "execution_count": 41,
   "id": "769994b0",
   "metadata": {},
   "outputs": [],
   "source": [
    "x = Dog('bruno',3)"
   ]
  },
  {
   "cell_type": "code",
   "execution_count": 42,
   "id": "1b8accb0",
   "metadata": {},
   "outputs": [
    {
     "name": "stdout",
     "output_type": "stream",
     "text": [
      "bruno is now sitting.\n"
     ]
    }
   ],
   "source": [
    "x.sit()"
   ]
  },
  {
   "cell_type": "code",
   "execution_count": 43,
   "id": "29c4945d",
   "metadata": {},
   "outputs": [
    {
     "name": "stdout",
     "output_type": "stream",
     "text": [
      "bruno rolled over!\n"
     ]
    }
   ],
   "source": [
    "x. roll_over()"
   ]
  },
  {
   "cell_type": "code",
   "execution_count": null,
   "id": "59d40d8e",
   "metadata": {},
   "outputs": [],
   "source": []
  },
  {
   "cell_type": "code",
   "execution_count": null,
   "id": "db697a0a",
   "metadata": {},
   "outputs": [],
   "source": []
  },
  {
   "cell_type": "code",
   "execution_count": null,
   "id": "25fb2839",
   "metadata": {},
   "outputs": [],
   "source": [
    "x = Dog()"
   ]
  },
  {
   "cell_type": "code",
   "execution_count": null,
   "id": "45356f10",
   "metadata": {},
   "outputs": [],
   "source": []
  },
  {
   "cell_type": "code",
   "execution_count": null,
   "id": "ed079cf3",
   "metadata": {},
   "outputs": [],
   "source": []
  },
  {
   "cell_type": "code",
   "execution_count": null,
   "id": "0f3783a5",
   "metadata": {},
   "outputs": [],
   "source": []
  },
  {
   "cell_type": "code",
   "execution_count": null,
   "id": "f6792135",
   "metadata": {},
   "outputs": [],
   "source": []
  },
  {
   "cell_type": "code",
   "execution_count": null,
   "id": "f3683002",
   "metadata": {},
   "outputs": [],
   "source": []
  },
  {
   "cell_type": "code",
   "execution_count": null,
   "id": "c0c4afa3",
   "metadata": {},
   "outputs": [],
   "source": []
  },
  {
   "cell_type": "code",
   "execution_count": null,
   "id": "5a74f4c9",
   "metadata": {},
   "outputs": [],
   "source": []
  },
  {
   "cell_type": "code",
   "execution_count": null,
   "id": "6f6eecb0",
   "metadata": {},
   "outputs": [],
   "source": []
  }
 ],
 "metadata": {
  "kernelspec": {
   "display_name": "Python 3 (ipykernel)",
   "language": "python",
   "name": "python3"
  },
  "language_info": {
   "codemirror_mode": {
    "name": "ipython",
    "version": 3
   },
   "file_extension": ".py",
   "mimetype": "text/x-python",
   "name": "python",
   "nbconvert_exporter": "python",
   "pygments_lexer": "ipython3",
   "version": "3.11.3"
  }
 },
 "nbformat": 4,
 "nbformat_minor": 5
}
